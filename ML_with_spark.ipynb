{
 "cells": [
  {
   "cell_type": "code",
   "execution_count": 51,
   "metadata": {},
   "outputs": [],
   "source": [
    "import findspark\n",
    "findspark.init()\n",
    "\n",
    "from pyspark.sql import SparkSession\n",
    "spark = SparkSession.builder.getOrCreate()\n",
    "sc = spark.sparkContext"
   ]
  },
  {
   "cell_type": "code",
   "execution_count": 52,
   "metadata": {},
   "outputs": [],
   "source": [
    "from pyspark.ml.clustering import KMeans    # https://spark.apache.org/docs/latest/api/python/reference/api/pyspark.ml.clustering.KMeans.html\n",
    "from pyspark.ml.classification import RandomForestClassifier    # https://spark.apache.org/docs/latest/api/python/reference/api/pyspark.mllib.tree.RandomForest.html\n",
    "\n",
    "kMeans = KMeans()\n",
    "randomForest = RandomForestClassifier()\n",
    "raw_data = spark.read.csv(\"Data/data.csv\", header=True, inferSchema=True)"
   ]
  },
  {
   "cell_type": "markdown",
   "metadata": {},
   "source": [
    "organizing"
   ]
  },
  {
   "cell_type": "code",
   "execution_count": 53,
   "metadata": {},
   "outputs": [
    {
     "name": "stdout",
     "output_type": "stream",
     "text": [
      "+-----+---------+---------------+---------------+------------+------------+----------+-------------+-----------+-----------+-----------+-----------+------------+------------+------------+------------+-----+\n",
      "| Area|Perimeter|MajorAxisLength|MinorAxisLength|AspectRation|Eccentricity|ConvexArea|EquivDiameter|     Extent|   Solidity|  roundness|Compactness|ShapeFactor1|ShapeFactor2|ShapeFactor3|ShapeFactor4|Label|\n",
      "+-----+---------+---------------+---------------+------------+------------+----------+-------------+-----------+-----------+-----------+-----------+------------+------------+------------+------------+-----+\n",
      "|28395|  610.291|    208.1781167|     173.888747| 1.197191424| 0.549812187|     28715|  190.1410973|0.763922518|0.988855999|0.958027126|0.913357755| 0.007331506| 0.003147289| 0.834222388| 0.998723889|  2.0|\n",
      "|28734|  638.018|    200.5247957|    182.7344194| 1.097356461| 0.411785251|     29172|  191.2727505|0.783968133|0.984985603|0.887033637|0.953860842| 0.006978659| 0.003563624| 0.909850506| 0.998430331|  2.0|\n",
      "|29380|   624.11|    212.8261299|    175.9311426| 1.209712656| 0.562727317|     29690|  193.4109041|0.778113248|0.989558774|0.947849473|0.908774239| 0.007243912| 0.003047733| 0.825870617| 0.999066137|  2.0|\n",
      "|30008|  645.884|     210.557999|    182.5165157| 1.153638059| 0.498615976|     30724|  195.4670618|0.782681273|0.976695743|0.903936374|0.928328835| 0.007016729| 0.003214562| 0.861794425| 0.994198849|  2.0|\n",
      "|30140|  620.134|    201.8478822|    190.2792788|  1.06079802| 0.333679658|     30417|   195.896503|0.773098035| 0.99089325|0.984877069|0.970515523|  0.00669701| 0.003664972| 0.941900381| 0.999166059|  2.0|\n",
      "+-----+---------+---------------+---------------+------------+------------+----------+-------------+-----------+-----------+-----------+-----------+------------+------------+------------+------------+-----+\n",
      "only showing top 5 rows\n",
      "\n"
     ]
    }
   ],
   "source": [
    "from pyspark.ml.feature import OneHotEncoder, StringIndexer\n",
    "import pyspark.sql.functions as F\n",
    "from pyspark.sql.functions import col, lit\n",
    "import functools\n",
    "\n",
    "stringIndexer = StringIndexer(inputCol=\"Class\", outputCol=\"Label\")\n",
    "model = stringIndexer.fit(raw_data)\n",
    "OD = model.transform(raw_data)\n",
    "OD = OD.drop(\"Class\")\n",
    "OD.show(5)"
   ]
  },
  {
   "cell_type": "markdown",
   "metadata": {},
   "source": [
    "scaling"
   ]
  },
  {
   "cell_type": "code",
   "execution_count": 54,
   "metadata": {},
   "outputs": [],
   "source": [
    "from pyspark.sql.functions import col, udf\n",
    "from pyspark.sql.types import FloatType\n",
    "\n",
    "ND = OD.select(\"*\")\n",
    "\n",
    "for column in OD.columns:\n",
    "    if column == \"Class\" or column == \"Label\":\n",
    "        continue\n",
    "\n",
    "    column_max = OD.agg({column: \"max\"}).collect()[0][0]\n",
    "    column_min = OD.agg({column: \"min\"}).collect()[0][0]\n",
    "\n",
    "    scaler = udf(lambda x: (x-column_min)/(column_max-column_min), FloatType())\n",
    "    ND = ND.withColumn(column, scaler(col(column)))"
   ]
  },
  {
   "cell_type": "markdown",
   "metadata": {},
   "source": [
    "Cluster"
   ]
  },
  {
   "cell_type": "markdown",
   "metadata": {},
   "source": [
    "OD CLUSTERING"
   ]
  },
  {
   "cell_type": "code",
   "execution_count": 55,
   "metadata": {},
   "outputs": [
    {
     "name": "stdout",
     "output_type": "stream",
     "text": [
      "Class size = 7\n",
      "+-----+---------+---------------+---------------+------------+------------+----------+-------------+-----------+-----------+-----------+-----------+------------+------------+------------+------------+-----+----------+\n",
      "| Area|Perimeter|MajorAxisLength|MinorAxisLength|AspectRation|Eccentricity|ConvexArea|EquivDiameter|     Extent|   Solidity|  roundness|Compactness|ShapeFactor1|ShapeFactor2|ShapeFactor3|ShapeFactor4|Label|prediction|\n",
      "+-----+---------+---------------+---------------+------------+------------+----------+-------------+-----------+-----------+-----------+-----------+------------+------------+------------+------------+-----+----------+\n",
      "|28395|  610.291|    208.1781167|     173.888747| 1.197191424| 0.549812187|     28715|  190.1410973|0.763922518|0.988855999|0.958027126|0.913357755| 0.007331506| 0.003147289| 0.834222388| 0.998723889|  2.0|         3|\n",
      "|28734|  638.018|    200.5247957|    182.7344194| 1.097356461| 0.411785251|     29172|  191.2727505|0.783968133|0.984985603|0.887033637|0.953860842| 0.006978659| 0.003563624| 0.909850506| 0.998430331|  2.0|         3|\n",
      "+-----+---------+---------------+---------------+------------+------------+----------+-------------+-----------+-----------+-----------+-----------+------------+------------+------------+------------+-----+----------+\n",
      "only showing top 2 rows\n",
      "\n"
     ]
    }
   ],
   "source": [
    "from pyspark.ml.clustering import KMeans\n",
    "from pyspark.ml.feature import VectorAssembler\n",
    "\n",
    "CLASS_SIZE = raw_data.select(\"Class\").distinct().count()\n",
    "print(f\"Class size = {CLASS_SIZE}\")\n",
    "\n",
    "featuresCol = OD.columns[:-1]\n",
    "predictionCol = OD.columns[-1]\n",
    "\n",
    "\n",
    "vecAssembler = VectorAssembler(inputCols=featuresCol, outputCol=\"features\")\n",
    "temp_df = vecAssembler.transform(OD)\n",
    "\n",
    "kMeans = KMeans(k=CLASS_SIZE)\n",
    "model = kMeans.fit(temp_df.select(\"features\"))\n",
    "\n",
    "COD = model.transform(temp_df)\n",
    "COD = COD.drop(\"features\")\n",
    "COD.show(5)"
   ]
  },
  {
   "cell_type": "code",
   "execution_count": 58,
   "metadata": {},
   "outputs": [
    {
     "name": "stdout",
     "output_type": "stream",
     "text": [
      "Best correlated column is Perimeter\n"
     ]
    },
    {
     "data": {
      "text/plain": [
       "<AxesSubplot:xlabel='Label', ylabel='Perimeter'>"
      ]
     },
     "execution_count": 58,
     "metadata": {},
     "output_type": "execute_result"
    },
    {
     "data": {
      "image/png": "[encoded data removed]",
      "text/plain": [
       "<Figure size 432x288 with 1 Axes>"
      ]
     },
     "metadata": {
      "needs_background": "light"
     },
     "output_type": "display_data"
    }
   ],
   "source": [
    "import seaborn as sns\n",
    "\n",
    "cod_df = COD.toPandas()\n",
    "best_correlated_column = cod_df.corr().loc[\"Label\"].drop(\"Label\").idxmax()\n",
    "print(f\"Best correlated column is {best_correlated_column}\")\n",
    "sns.scatterplot(data=cod_df, x=\"Label\", y=best_correlated_column, hue=\"prediction\", palette=\"bright\")"
   ]
  },
  {
   "cell_type": "markdown",
   "metadata": {},
   "source": [
    "ND CLUSTERING"
   ]
  },
  {
   "cell_type": "code",
   "execution_count": 60,
   "metadata": {},
   "outputs": [
    {
     "name": "stdout",
     "output_type": "stream",
     "text": [
      "Class size = 7\n",
      "+-----------+----------+---------------+---------------+------------+------------+-----------+-------------+---------+----------+----------+-----------+------------+------------+------------+------------+-----+----------+\n",
      "|       Area| Perimeter|MajorAxisLength|MinorAxisLength|AspectRation|Eccentricity| ConvexArea|EquivDiameter|   Extent|  Solidity| roundness|Compactness|ShapeFactor1|ShapeFactor2|ShapeFactor3|ShapeFactor4|Label|prediction|\n",
      "+-----------+----------+---------------+---------------+------------+------------+-----------+-------------+---------+----------+----------+-----------+------------+------------+------------+------------+-----+----------+\n",
      "|0.034052674|0.05857388|     0.04426214|     0.15214169|  0.12261211|  0.47779703|0.033107013|  0.070804134|0.6710237|0.92282385|0.93482256| 0.78673315|   0.5934316|   0.8330487|  0.75099635|  0.98061985|  2.0|         1|\n",
      "| 0.03550018|0.07755673|    0.030478805|     0.17833667|  0.05157739|    0.278472| 0.03499095|  0.073576905| 0.735504|0.87151366|0.79313797|  0.9035489|  0.54744697|  0.96731555|  0.88498694|   0.9749794|  2.0|         1|\n",
      "+-----------+----------+---------------+---------------+------------+------------+-----------+-------------+---------+----------+----------+-----------+------------+------------+------------+------------+-----+----------+\n",
      "only showing top 2 rows\n",
      "\n"
     ]
    }
   ],
   "source": [
    "from pyspark.ml.clustering import KMeans\n",
    "from pyspark.ml.feature import VectorAssembler\n",
    "\n",
    "CLASS_SIZE = raw_data.select(\"Class\").distinct().count()\n",
    "print(f\"Class size = {CLASS_SIZE}\")\n",
    "\n",
    "featuresCol = ND.columns[:-1]\n",
    "predictionCol = ND.columns[-1]\n",
    "\n",
    "\n",
    "vecAssembler = VectorAssembler(inputCols=featuresCol, outputCol=\"features\")\n",
    "temp_df = vecAssembler.transform(ND)\n",
    "\n",
    "kMeans = KMeans(k=CLASS_SIZE)\n",
    "model = kMeans.fit(temp_df.select(\"features\"))\n",
    "\n",
    "CND = model.transform(temp_df)\n",
    "CND = CND.drop(\"features\")\n",
    "CND.show(2)"
   ]
  },
  {
   "cell_type": "code",
   "execution_count": 65,
   "metadata": {},
   "outputs": [
    {
     "name": "stdout",
     "output_type": "stream",
     "text": [
      "Best correlated column is Perimeter\n"
     ]
    },
    {
     "data": {
      "text/plain": [
       "<AxesSubplot:xlabel='Label', ylabel='Perimeter'>"
      ]
     },
     "execution_count": 65,
     "metadata": {},
     "output_type": "execute_result"
    },
    {
     "data": {
      "image/png": "[encoded data removed]",
      "text/plain": [
       "<Figure size 432x288 with 1 Axes>"
      ]
     },
     "metadata": {
      "needs_background": "light"
     },
     "output_type": "display_data"
    }
   ],
   "source": [
    "cnd_df = CND.toPandas()\n",
    "best_correlated_column = cnd_df.corr().loc[\"Label\"].drop(\"Label\").idxmax()\n",
    "print(f\"Best correlated column is {best_correlated_column}\")\n",
    "sns.scatterplot(data=cnd_df, x=\"Label\", y=best_correlated_column, hue=\"prediction\", palette=\"bright\")"
   ]
  },
  {
   "cell_type": "code",
   "execution_count": 7,
   "metadata": {},
   "outputs": [
    {
     "name": "stdout",
     "output_type": "stream",
     "text": [
      "0.11415567633571425\n",
      "0.04894463491429017\n"
     ]
    }
   ],
   "source": [
    "# COD PURITY\n",
    "\n",
    "from pyspark.ml.evaluation import MulticlassClassificationEvaluator\n",
    "\n",
    "predictionAndLabels = COD.rdd.map(lambda lp: (float(lp.prediction), float(lp.Label)))\n",
    "dataset = spark.createDataFrame(predictionAndLabels.collect(), [\"prediction\", \"label\"])\n",
    "evaluator = MulticlassClassificationEvaluator()\n",
    "print(evaluator.evaluate(dataset))\n",
    "\n",
    "# CND PURITY\n",
    "\n",
    "predictionAndLabels = CND.rdd.map(lambda lp: (float(lp.prediction), float(lp.Label)))\n",
    "dataset = spark.createDataFrame(predictionAndLabels.collect(), [\"prediction\", \"label\"])\n",
    "evaluator = MulticlassClassificationEvaluator()\n",
    "print(evaluator.evaluate(dataset))"
   ]
  },
  {
   "cell_type": "markdown",
   "metadata": {},
   "source": [
    "Classification"
   ]
  },
  {
   "cell_type": "code",
   "execution_count": 8,
   "metadata": {},
   "outputs": [
    {
     "name": "stdout",
     "output_type": "stream",
     "text": [
      "Score = 0.7188107236078618 with number of 5 with 2 depth.\n",
      "Score = 0.7130552773625666 with number of 10 with 2 depth.\n",
      "Score = 0.714046993002339 with number of 20 with 2 depth.\n",
      "Score = 0.8801187245398434 with number of 5 with 5 depth.\n",
      "Score = 0.8945162568305485 with number of 10 with 5 depth.\n",
      "Score = 0.8844920448416866 with number of 20 with 5 depth.\n",
      "Score = 0.9153417653829016 with number of 5 with 10 depth.\n",
      "Score = 0.9196526884884596 with number of 10 with 10 depth.\n",
      "Score = 0.9230682541761277 with number of 20 with 10 depth.\n",
      "Test Accuracy: 0.918853794459775\n",
      "Test Precision: 0.911957950065703\n",
      "Test Recall: 0.9378378378378378\n",
      "Test F1-Score: 0.918853794459775\n",
      "Best Parameters: Depth = 10, Number of Trees = 20\n"
     ]
    }
   ],
   "source": [
    "# Classification\n",
    "# OD\n",
    "\n",
    "featuresCol = OD.columns[:-1]\n",
    "vecAssembler = VectorAssembler(inputCols=featuresCol, outputCol=\"features\")\n",
    "temp_df = vecAssembler.transform(OD)\n",
    "\n",
    "train_set, test_set = temp_df.randomSplit([0.8, 0.2], seed=0)\n",
    "train_set, val_set = train_set.randomSplit([0.8, 0.2], seed=0)\n",
    "\n",
    "depths = [2, 5, 10]\n",
    "num_trees = [5, 10, 20]\n",
    "best_score = 0\n",
    "best_model = None\n",
    "best_params = []\n",
    "\n",
    "for depth in depths:\n",
    "    for num_tree in num_trees:\n",
    "        rf = RandomForestClassifier(numTrees=num_tree, maxDepth=depth, featuresCol='features', labelCol=\"Label\", predictionCol='prediction', leafCol=\"leafId\")\n",
    "        model = rf.fit(train_set)\n",
    "        preds = model.transform(val_set)\n",
    "\n",
    "        predictionAndLabels = preds.rdd.map(lambda lp: (float(lp.prediction), float(lp.Label)))\n",
    "        dataset = spark.createDataFrame(predictionAndLabels.collect(), [\"prediction\", \"label\"])\n",
    "        evaluator = MulticlassClassificationEvaluator()\n",
    "        score = evaluator.evaluate(dataset)\n",
    "        if score > best_score:\n",
    "            best_score = score\n",
    "            best_model = model\n",
    "            best_params = [depth, num_tree]\n",
    "        print(f\"Score = {score} with number of {num_tree} with {depth} depth.\")\n",
    "\n",
    "# Test Eval\n",
    "truths = best_model.transform(test_set)\n",
    "truthsAndLabels = truths.rdd.map(lambda lp: (float(lp.prediction), float(lp.Label)))\n",
    "test_dataset = spark.createDataFrame(truthsAndLabels.collect(), [\"prediction\", \"label\"])\n",
    "test_score = evaluator.evaluate(test_dataset)\n",
    "precision = evaluator.evaluate(test_dataset, {evaluator.metricName: \"precisionByLabel\"})\n",
    "recall = evaluator.evaluate(test_dataset, {evaluator.metricName: \"recallByLabel\"})\n",
    "f1_score = evaluator.evaluate(test_dataset, {evaluator.metricName: \"f1\"})\n",
    "print(f\"Test Accuracy: {test_score}\")\n",
    "print(f\"Test Precision: {precision}\")\n",
    "print(f\"Test Recall: {recall}\")\n",
    "print(f\"Test F1-Score: {f1_score}\")\n",
    "print(f\"Best Parameters: Depth = {best_params[0]}, Number of Trees = {best_params[1]}\")"
   ]
  },
  {
   "cell_type": "code",
   "execution_count": 9,
   "metadata": {},
   "outputs": [
    {
     "name": "stdout",
     "output_type": "stream",
     "text": [
      "+-----+---------+---------------+---------------+------------+------------+----------+-------------+-----------+-----------+-----------+-----------+------------+------------+------------+------------+-----+--------------------+\n",
      "| Area|Perimeter|MajorAxisLength|MinorAxisLength|AspectRation|Eccentricity|ConvexArea|EquivDiameter|     Extent|   Solidity|  roundness|Compactness|ShapeFactor1|ShapeFactor2|ShapeFactor3|ShapeFactor4|Label|            features|\n",
      "+-----+---------+---------------+---------------+------------+------------+----------+-------------+-----------+-----------+-----------+-----------+------------+------------+------------+------------+-----+--------------------+\n",
      "|21877|  542.194|    202.0161551|    138.0740299| 1.463100304| 0.729969108|     22107|  166.8971585|0.747165301|0.989596056| 0.93516494|0.826157484|  0.00923418| 0.002653563| 0.682536189| 0.998618906|  0.0|[21877.0,542.194,...|\n",
      "|21961|  551.696|    204.7763134|    136.7099579|  1.49788879| 0.744514487|     22267|  167.2172648|0.780419332|0.986257691|0.906697265|0.816584995| 0.009324544| 0.002557484| 0.666811053| 0.998808802|  0.0|[21961.0,551.696,...|\n",
      "|22205|  564.439|    206.9064294|     137.691618|  1.50267992| 0.746417718|     22532|  168.1436412|0.725274366|0.985487307|0.875843707|0.812655468| 0.009318011| 0.002506853|  0.66040891| 0.992383207|  0.0|[22205.0,564.439,...|\n",
      "|22227|  544.406|    197.9233017|    143.9369164| 1.375069765| 0.686387682|     22438|  168.2269163|0.719786269| 0.99059631|0.942420897|0.849960135| 0.008904634| 0.002866752| 0.722432231| 0.993394718|  0.0|[22227.0,544.406,...|\n",
      "|22298|  539.161|    191.9546902|    148.0978821| 1.296133932| 0.636198754|     22505|  168.4953868|0.736709948|0.990802044|0.963915214|0.877787287| 0.008608606| 0.003152606| 0.770510522| 0.998684832|  0.0|[22298.0,539.161,...|\n",
      "+-----+---------+---------------+---------------+------------+------------+----------+-------------+-----------+-----------+-----------+-----------+------------+------------+------------+------------+-----+--------------------+\n",
      "only showing top 5 rows\n",
      "\n"
     ]
    }
   ],
   "source": [
    "test_set.show(5)"
   ]
  },
  {
   "cell_type": "code",
   "execution_count": 10,
   "metadata": {},
   "outputs": [
    {
     "name": "stdout",
     "output_type": "stream",
     "text": [
      "Score = 0.7188107236078618 with number of 5 with 2 depth.\n",
      "Score = 0.7130552773625666 with number of 10 with 2 depth.\n",
      "Score = 0.714046993002339 with number of 20 with 2 depth.\n",
      "Score = 0.8801187245398434 with number of 5 with 5 depth.\n",
      "Score = 0.8945162568305485 with number of 10 with 5 depth.\n",
      "Score = 0.8844920448416866 with number of 20 with 5 depth.\n",
      "Score = 0.9153417653829016 with number of 5 with 10 depth.\n",
      "Score = 0.9196526884884596 with number of 10 with 10 depth.\n",
      "Score = 0.9230682541761277 with number of 20 with 10 depth.\n",
      "Test Accuracy: 0.918853794459775\n",
      "Test Precision: 0.911957950065703\n",
      "Test Recall: 0.9378378378378378\n",
      "Test F1-Score: 0.918853794459775\n",
      "Best Parameters: Depth = 10, Number of Trees = 20\n"
     ]
    }
   ],
   "source": [
    "# Classification\n",
    "# ND\n",
    "\n",
    "featuresCol = ND.columns[:-1]\n",
    "vecAssembler = VectorAssembler(inputCols=featuresCol, outputCol=\"features\")\n",
    "temp_df = vecAssembler.transform(ND)\n",
    "\n",
    "train_set, test_set = temp_df.randomSplit([0.8, 0.2], seed=0)\n",
    "train_set, val_set = train_set.randomSplit([0.8, 0.2], seed=0)\n",
    "\n",
    "\n",
    "depths = [2, 5, 10]\n",
    "num_trees = [5, 10, 20]\n",
    "best_score = 0\n",
    "best_model = None\n",
    "best_params = []\n",
    "\n",
    "\n",
    "for depth in depths:\n",
    "    for num_tree in num_trees:\n",
    "        rf = RandomForestClassifier(numTrees=num_tree, maxDepth=depth, featuresCol='features', labelCol=\"Label\", predictionCol='prediction', leafCol=\"leafId\")\n",
    "        model = rf.fit(train_set)\n",
    "        preds = model.transform(val_set)\n",
    "\n",
    "        predictionAndLabels = preds.rdd.map(lambda lp: (float(lp.prediction), float(lp.Label)))\n",
    "        dataset = spark.createDataFrame(predictionAndLabels.collect(), [\"prediction\", \"label\"])\n",
    "        evaluator = MulticlassClassificationEvaluator()\n",
    "        score = evaluator.evaluate(dataset)\n",
    "        if score > best_score:\n",
    "            best_score = score\n",
    "            best_model = model\n",
    "            best_params = [depth, num_tree]\n",
    "        print(f\"Score = {score} with number of {num_tree} with {depth} depth.\")\n",
    "\n",
    "# Test Eval\n",
    "truths = best_model.transform(test_set)\n",
    "truthsAndLabels = truths.rdd.map(lambda lp: (float(lp.prediction), float(lp.Label)))\n",
    "test_dataset = spark.createDataFrame(truthsAndLabels.collect(), [\"prediction\", \"label\"])\n",
    "test_score = evaluator.evaluate(test_dataset)\n",
    "precision = evaluator.evaluate(test_dataset, {evaluator.metricName: \"precisionByLabel\"})\n",
    "recall = evaluator.evaluate(test_dataset, {evaluator.metricName: \"recallByLabel\"})\n",
    "f1_score = evaluator.evaluate(test_dataset, {evaluator.metricName: \"f1\"})\n",
    "print(f\"Test Accuracy: {test_score}\")\n",
    "print(f\"Test Precision: {precision}\")\n",
    "print(f\"Test Recall: {recall}\")\n",
    "print(f\"Test F1-Score: {f1_score}\")\n",
    "print(f\"Best Parameters: Depth = {best_params[0]}, Number of Trees = {best_params[1]}\")"
   ]
  },
  {
   "cell_type": "code",
   "execution_count": 11,
   "metadata": {},
   "outputs": [
    {
     "name": "stdout",
     "output_type": "stream",
     "text": [
      "Score = 0.7188107236078618 with number of 5 with 2 depth.\n",
      "Score = 0.7130552773625666 with number of 10 with 2 depth.\n",
      "Score = 0.714046993002339 with number of 20 with 2 depth.\n",
      "Score = 0.8801187245398434 with number of 5 with 5 depth.\n",
      "Score = 0.8945162568305485 with number of 10 with 5 depth.\n",
      "Score = 0.8844920448416866 with number of 20 with 5 depth.\n",
      "Score = 0.9153417653829016 with number of 5 with 10 depth.\n",
      "Score = 0.9196526884884596 with number of 10 with 10 depth.\n",
      "Score = 0.9230682541761277 with number of 20 with 10 depth.\n",
      "Test Accuracy: 0.918853794459775\n",
      "Test Precision: 0.911957950065703\n",
      "Test Recall: 0.9378378378378378\n",
      "Test F1-Score: 0.918853794459775\n",
      "Best Parameters: Depth = 10, Number of Trees = 20\n"
     ]
    }
   ],
   "source": [
    "# Classification\n",
    "# COD\n",
    "\n",
    "COD = COD.drop(\"prediction\")\n",
    "featuresCol = COD.columns[:-1]\n",
    "vecAssembler = VectorAssembler(inputCols=featuresCol, outputCol=\"features\")\n",
    "temp_df = vecAssembler.transform(COD)\n",
    "\n",
    "train_set, test_set = temp_df.randomSplit([0.8, 0.2], seed=0)\n",
    "train_set, val_set = train_set.randomSplit([0.8, 0.2], seed=0)\n",
    "\n",
    "\n",
    "depths = [2, 5, 10]\n",
    "num_trees = [5, 10, 20]\n",
    "best_score = 0\n",
    "best_model = None\n",
    "best_params = []\n",
    "\n",
    "\n",
    "for depth in depths:\n",
    "    for num_tree in num_trees:\n",
    "        rf = RandomForestClassifier(numTrees=num_tree, maxDepth=depth, featuresCol='features', labelCol=\"Label\", predictionCol='prediction', leafCol=\"leafId\")\n",
    "        model = rf.fit(train_set)\n",
    "        preds = model.transform(val_set)\n",
    "\n",
    "        predictionAndLabels = preds.rdd.map(lambda lp: (float(lp.prediction), float(lp.Label)))\n",
    "        dataset = spark.createDataFrame(predictionAndLabels.collect(), [\"prediction\", \"label\"])\n",
    "        evaluator = MulticlassClassificationEvaluator()\n",
    "        score = evaluator.evaluate(dataset)\n",
    "        if score > best_score:\n",
    "            best_score = score\n",
    "            best_model = model\n",
    "            best_params = [depth, num_tree]\n",
    "        print(f\"Score = {score} with number of {num_tree} with {depth} depth.\")\n",
    "\n",
    "# Test Eval\n",
    "truths = best_model.transform(test_set)\n",
    "truthsAndLabels = truths.rdd.map(lambda lp: (float(lp.prediction), float(lp.Label)))\n",
    "test_dataset = spark.createDataFrame(truthsAndLabels.collect(), [\"prediction\", \"label\"])\n",
    "test_score = evaluator.evaluate(test_dataset)\n",
    "precision = evaluator.evaluate(test_dataset, {evaluator.metricName: \"precisionByLabel\"})\n",
    "recall = evaluator.evaluate(test_dataset, {evaluator.metricName: \"recallByLabel\"})\n",
    "f1_score = evaluator.evaluate(test_dataset, {evaluator.metricName: \"f1\"})\n",
    "print(f\"Test Accuracy: {test_score}\")\n",
    "print(f\"Test Precision: {precision}\")\n",
    "print(f\"Test Recall: {recall}\")\n",
    "print(f\"Test F1-Score: {f1_score}\")\n",
    "print(f\"Best Parameters: Depth = {best_params[0]}, Number of Trees = {best_params[1]}\")"
   ]
  },
  {
   "cell_type": "code",
   "execution_count": 12,
   "metadata": {},
   "outputs": [
    {
     "name": "stdout",
     "output_type": "stream",
     "text": [
      "Score = 0.6946522438132859 with number of 5 with 2 depth.\n",
      "Score = 0.7164095843993565 with number of 10 with 2 depth.\n",
      "Score = 0.7229497615048558 with number of 20 with 2 depth.\n",
      "Score = 0.8823230815005929 with number of 5 with 5 depth.\n",
      "Score = 0.8764774710582534 with number of 10 with 5 depth.\n",
      "Score = 0.8840494660218254 with number of 20 with 5 depth.\n",
      "Score = 0.8999949923865609 with number of 5 with 10 depth.\n",
      "Score = 0.9130167131662846 with number of 10 with 10 depth.\n",
      "Score = 0.9132306960010721 with number of 20 with 10 depth.\n",
      "Test Accuracy: 0.9132306960010721\n",
      "Test Precision: 0.9087301587301587\n",
      "Test Recall: 0.9283783783783783\n",
      "Test F1-Score: 0.9132306960010721\n",
      "Best Parameters: Depth = 10, Number of Trees = 20\n"
     ]
    }
   ],
   "source": [
    "# Classification\n",
    "# CND\n",
    "\n",
    "CND = CND.drop(\"prediction\")\n",
    "featuresCol = CND.columns[:-1]\n",
    "vecAssembler = VectorAssembler(inputCols=featuresCol, outputCol=\"features\")\n",
    "temp_df = vecAssembler.transform(CND)\n",
    "\n",
    "train_set, test_set = temp_df.randomSplit([0.8, 0.2], seed=0)\n",
    "train_set, val_set = train_set.randomSplit([0.8, 0.2], seed=0)\n",
    "\n",
    "depths = [2, 5, 10]\n",
    "num_trees = [5, 10, 20]\n",
    "best_score = 0\n",
    "best_model = None\n",
    "best_params = []\n",
    "\n",
    "\n",
    "for depth in depths:\n",
    "    for num_tree in num_trees:\n",
    "        rf = RandomForestClassifier(numTrees=num_tree, maxDepth=depth, featuresCol='features', labelCol=\"Label\", predictionCol='prediction', leafCol=\"leafId\")\n",
    "        model = rf.fit(val_set)\n",
    "        preds = model.transform(test_set)\n",
    "\n",
    "        predictionAndLabels = preds.rdd.map(lambda lp: (float(lp.prediction), float(lp.Label)))\n",
    "        dataset = spark.createDataFrame(predictionAndLabels.collect(), [\"prediction\", \"label\"])\n",
    "        evaluator = MulticlassClassificationEvaluator()\n",
    "        score = evaluator.evaluate(dataset)\n",
    "        if score > best_score:\n",
    "            best_score = score\n",
    "            best_model = model\n",
    "            best_params = [depth, num_tree]\n",
    "        print(f\"Score = {score} with number of {num_tree} with {depth} depth.\")\n",
    "\n",
    "# Test Eval\n",
    "truths = best_model.transform(test_set)\n",
    "truthsAndLabels = truths.rdd.map(lambda lp: (float(lp.prediction), float(lp.Label)))\n",
    "test_dataset = spark.createDataFrame(truthsAndLabels.collect(), [\"prediction\", \"label\"])\n",
    "test_score = evaluator.evaluate(test_dataset)\n",
    "precision = evaluator.evaluate(test_dataset, {evaluator.metricName: \"precisionByLabel\"})\n",
    "recall = evaluator.evaluate(test_dataset, {evaluator.metricName: \"recallByLabel\"})\n",
    "f1_score = evaluator.evaluate(test_dataset, {evaluator.metricName: \"f1\"})\n",
    "print(f\"Test Accuracy: {test_score}\")\n",
    "print(f\"Test Precision: {precision}\")\n",
    "print(f\"Test Recall: {recall}\")\n",
    "print(f\"Test F1-Score: {f1_score}\")\n",
    "print(f\"Best Parameters: Depth = {best_params[0]}, Number of Trees = {best_params[1]}\")"
   ]
  }
 ],
 "metadata": {
  "interpreter": {
   "hash": "410307664c3b7ae8cf4ec4c8c111266d5283fec415142dc2cbd04795b4f02a6d"
  },
  "kernelspec": {
   "display_name": "Python 3 (ipykernel)",
   "language": "python",
   "name": "python3"
  },
  "language_info": {
   "codemirror_mode": {
    "name": "ipython",
    "version": 3
   },
   "file_extension": ".py",
   "mimetype": "text/x-python",
   "name": "python",
   "nbconvert_exporter": "python",
   "pygments_lexer": "ipython3",
   "version": "3.8.5"
  }
 },
 "nbformat": 4,
 "nbformat_minor": 2
}
