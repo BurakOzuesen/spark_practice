{
 "cells": [
  {
   "cell_type": "code",
   "execution_count": 1,
   "metadata": {},
   "outputs": [],
   "source": [
    "import findspark\n",
    "findspark.init()\n",
    "\n",
    "from pyspark.sql import SparkSession\n",
    "spark = SparkSession.builder.getOrCreate()\n",
    "sc = spark.sparkContext"
   ]
  },
  {
   "cell_type": "code",
   "execution_count": 3,
   "metadata": {},
   "outputs": [
    {
     "name": "stdout",
     "output_type": "stream",
     "text": [
      "Total word count in given text file is 611\n"
     ]
    }
   ],
   "source": [
    "# Random text generated from https://randomtextgenerator.com/\n",
    "\n",
    "data = sc.textFile(\"Data/random_text.txt\")\n",
    "\n",
    "flat_data = data.flatMap(lambda x: x.split(\" \"))\n",
    "\n",
    "word_count = 0\n",
    "\n",
    "for element in flat_data.collect():\n",
    "    word_count += 1\n",
    "\n",
    "print(f\"Total word count in given text file is {word_count}\")"
   ]
  }
 ],
 "metadata": {
  "interpreter": {
   "hash": "410307664c3b7ae8cf4ec4c8c111266d5283fec415142dc2cbd04795b4f02a6d"
  },
  "kernelspec": {
   "display_name": "Python 3.8.5 64-bit (system)",
   "language": "python",
   "name": "python3"
  },
  "language_info": {
   "codemirror_mode": {
    "name": "ipython",
    "version": 3
   },
   "file_extension": ".py",
   "mimetype": "text/x-python",
   "name": "python",
   "nbconvert_exporter": "python",
   "pygments_lexer": "ipython3",
   "version": "3.8.5"
  },
  "orig_nbformat": 4
 },
 "nbformat": 4,
 "nbformat_minor": 2
}
