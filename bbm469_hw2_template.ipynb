{
 "cells": [
  {
   "cell_type": "markdown",
   "metadata": {
    "colab_type": "text",
    "id": "hEQ1ErpCpGL8"
   },
   "source": [
    "# Machine Learning with Spark\n",
    "\n",
    "#### Student no : 21827761 - 21827924\n",
    "#### Student name : Burak Özüesen - Berkay Emre Turhan\n",
    "\n"
   ]
  },
  {
   "cell_type": "markdown",
   "metadata": {
    "colab_type": "text",
    "id": "8YmERLjspGMH"
   },
   "source": [
    "## Table of Content\n",
    "\n",
    "[Purpose](#purpose)   \n",
    "[Data Understanding](#data_understanding)   \n",
    "[Data Preparation](#data_preparation)   \n",
    "[Modeling for Clustering](#clusteringmodel)  \n",
    "[Clustering results](#clustering)    \n",
    "[Modeling for Classification](#classificationmodel)  \n",
    "[Evaluation](#evaluation)  \n",
    "[References](#references)   \n"
   ]
  },
  {
   "cell_type": "markdown",
   "metadata": {
    "colab_type": "text",
    "id": "clDpC-2kpGMR"
   },
   "source": [
    "## Purpose <a class=\"anchor\" id=\"purpose\"></a>"
   ]
  },
  {
   "cell_type": "markdown",
   "metadata": {
    "colab_type": "text",
    "id": "It7OxV2ypGMS"
   },
   "source": [
    "The aim of this assignment is to make us familiar with the basics of Apache Spark\n",
    "and machine learning methods using Spark Environment."
   ]
  },
  {
   "cell_type": "code",
   "execution_count": 40,
   "metadata": {},
   "outputs": [],
   "source": [
    "# Setup Spark Phase\n",
    "\n",
    "import findspark\n",
    "findspark.init()\n",
    "\n",
    "from pyspark.sql import SparkSession\n",
    "spark = SparkSession.builder.getOrCreate()\n",
    "sc = spark.sparkContext"
   ]
  },
  {
   "cell_type": "markdown",
   "metadata": {
    "colab_type": "text",
    "id": "JuZmF4SvpGMc"
   },
   "source": [
    "## Data Understanding<a class=\"anchor\" id=\"data_understanding\"></a>"
   ]
  },
  {
   "cell_type": "code",
   "execution_count": 41,
   "metadata": {
    "colab": {},
    "colab_type": "code",
    "id": "kJENPg1KpGMd"
   },
   "outputs": [
    {
     "data": {
      "text/html": [
       "<div>\n",
       "<style scoped>\n",
       "    .dataframe tbody tr th:only-of-type {\n",
       "        vertical-align: middle;\n",
       "    }\n",
       "\n",
       "    .dataframe tbody tr th {\n",
       "        vertical-align: top;\n",
       "    }\n",
       "\n",
       "    .dataframe thead th {\n",
       "        text-align: right;\n",
       "    }\n",
       "</style>\n",
       "<table border=\"1\" class=\"dataframe\">\n",
       "  <thead>\n",
       "    <tr style=\"text-align: right;\">\n",
       "      <th></th>\n",
       "      <th>Area</th>\n",
       "      <th>Perimeter</th>\n",
       "      <th>MajorAxisLength</th>\n",
       "      <th>MinorAxisLength</th>\n",
       "      <th>AspectRation</th>\n",
       "      <th>Eccentricity</th>\n",
       "      <th>ConvexArea</th>\n",
       "      <th>EquivDiameter</th>\n",
       "      <th>Extent</th>\n",
       "      <th>Solidity</th>\n",
       "      <th>roundness</th>\n",
       "      <th>Compactness</th>\n",
       "      <th>ShapeFactor1</th>\n",
       "      <th>ShapeFactor2</th>\n",
       "      <th>ShapeFactor3</th>\n",
       "      <th>ShapeFactor4</th>\n",
       "    </tr>\n",
       "  </thead>\n",
       "  <tbody>\n",
       "    <tr>\n",
       "      <th>count</th>\n",
       "      <td>13611.000000</td>\n",
       "      <td>13611.000000</td>\n",
       "      <td>13611.000000</td>\n",
       "      <td>13611.000000</td>\n",
       "      <td>13611.000000</td>\n",
       "      <td>13611.000000</td>\n",
       "      <td>13611.000000</td>\n",
       "      <td>13611.000000</td>\n",
       "      <td>13611.000000</td>\n",
       "      <td>13611.000000</td>\n",
       "      <td>13611.000000</td>\n",
       "      <td>13611.000000</td>\n",
       "      <td>13611.000000</td>\n",
       "      <td>13611.000000</td>\n",
       "      <td>13611.000000</td>\n",
       "      <td>13611.000000</td>\n",
       "    </tr>\n",
       "    <tr>\n",
       "      <th>mean</th>\n",
       "      <td>53048.284549</td>\n",
       "      <td>855.283459</td>\n",
       "      <td>320.141867</td>\n",
       "      <td>202.270714</td>\n",
       "      <td>1.583242</td>\n",
       "      <td>0.750895</td>\n",
       "      <td>53768.200206</td>\n",
       "      <td>253.064220</td>\n",
       "      <td>0.749733</td>\n",
       "      <td>0.987143</td>\n",
       "      <td>0.873282</td>\n",
       "      <td>0.799864</td>\n",
       "      <td>0.006564</td>\n",
       "      <td>0.001716</td>\n",
       "      <td>0.643590</td>\n",
       "      <td>0.995063</td>\n",
       "    </tr>\n",
       "    <tr>\n",
       "      <th>std</th>\n",
       "      <td>29324.095717</td>\n",
       "      <td>214.289696</td>\n",
       "      <td>85.694186</td>\n",
       "      <td>44.970091</td>\n",
       "      <td>0.246678</td>\n",
       "      <td>0.092002</td>\n",
       "      <td>29774.915817</td>\n",
       "      <td>59.177120</td>\n",
       "      <td>0.049086</td>\n",
       "      <td>0.004660</td>\n",
       "      <td>0.059520</td>\n",
       "      <td>0.061713</td>\n",
       "      <td>0.001128</td>\n",
       "      <td>0.000596</td>\n",
       "      <td>0.098996</td>\n",
       "      <td>0.004366</td>\n",
       "    </tr>\n",
       "    <tr>\n",
       "      <th>min</th>\n",
       "      <td>20420.000000</td>\n",
       "      <td>524.736000</td>\n",
       "      <td>183.601165</td>\n",
       "      <td>122.512653</td>\n",
       "      <td>1.024868</td>\n",
       "      <td>0.218951</td>\n",
       "      <td>20684.000000</td>\n",
       "      <td>161.243764</td>\n",
       "      <td>0.555315</td>\n",
       "      <td>0.919246</td>\n",
       "      <td>0.489618</td>\n",
       "      <td>0.640577</td>\n",
       "      <td>0.002778</td>\n",
       "      <td>0.000564</td>\n",
       "      <td>0.410339</td>\n",
       "      <td>0.947687</td>\n",
       "    </tr>\n",
       "    <tr>\n",
       "      <th>25%</th>\n",
       "      <td>36328.000000</td>\n",
       "      <td>703.523500</td>\n",
       "      <td>253.303633</td>\n",
       "      <td>175.848170</td>\n",
       "      <td>1.432307</td>\n",
       "      <td>0.715928</td>\n",
       "      <td>36714.500000</td>\n",
       "      <td>215.068003</td>\n",
       "      <td>0.718634</td>\n",
       "      <td>0.985670</td>\n",
       "      <td>0.832096</td>\n",
       "      <td>0.762469</td>\n",
       "      <td>0.005900</td>\n",
       "      <td>0.001154</td>\n",
       "      <td>0.581359</td>\n",
       "      <td>0.993703</td>\n",
       "    </tr>\n",
       "    <tr>\n",
       "      <th>50%</th>\n",
       "      <td>44652.000000</td>\n",
       "      <td>794.941000</td>\n",
       "      <td>296.883367</td>\n",
       "      <td>192.431733</td>\n",
       "      <td>1.551124</td>\n",
       "      <td>0.764441</td>\n",
       "      <td>45178.000000</td>\n",
       "      <td>238.438026</td>\n",
       "      <td>0.759859</td>\n",
       "      <td>0.988283</td>\n",
       "      <td>0.883157</td>\n",
       "      <td>0.801277</td>\n",
       "      <td>0.006645</td>\n",
       "      <td>0.001694</td>\n",
       "      <td>0.642044</td>\n",
       "      <td>0.996386</td>\n",
       "    </tr>\n",
       "    <tr>\n",
       "      <th>75%</th>\n",
       "      <td>61332.000000</td>\n",
       "      <td>977.213000</td>\n",
       "      <td>376.495012</td>\n",
       "      <td>217.031741</td>\n",
       "      <td>1.707109</td>\n",
       "      <td>0.810466</td>\n",
       "      <td>62294.000000</td>\n",
       "      <td>279.446467</td>\n",
       "      <td>0.786851</td>\n",
       "      <td>0.990013</td>\n",
       "      <td>0.916869</td>\n",
       "      <td>0.834270</td>\n",
       "      <td>0.007271</td>\n",
       "      <td>0.002170</td>\n",
       "      <td>0.696006</td>\n",
       "      <td>0.997883</td>\n",
       "    </tr>\n",
       "    <tr>\n",
       "      <th>max</th>\n",
       "      <td>254616.000000</td>\n",
       "      <td>1985.370000</td>\n",
       "      <td>738.860154</td>\n",
       "      <td>460.198497</td>\n",
       "      <td>2.430306</td>\n",
       "      <td>0.911423</td>\n",
       "      <td>263261.000000</td>\n",
       "      <td>569.374358</td>\n",
       "      <td>0.866195</td>\n",
       "      <td>0.994677</td>\n",
       "      <td>0.990685</td>\n",
       "      <td>0.987303</td>\n",
       "      <td>0.010451</td>\n",
       "      <td>0.003665</td>\n",
       "      <td>0.974767</td>\n",
       "      <td>0.999733</td>\n",
       "    </tr>\n",
       "  </tbody>\n",
       "</table>\n",
       "</div>"
      ],
      "text/plain": [
       "                Area     Perimeter  MajorAxisLength  MinorAxisLength  \\\n",
       "count   13611.000000  13611.000000     13611.000000     13611.000000   \n",
       "mean    53048.284549    855.283459       320.141867       202.270714   \n",
       "std     29324.095717    214.289696        85.694186        44.970091   \n",
       "min     20420.000000    524.736000       183.601165       122.512653   \n",
       "25%     36328.000000    703.523500       253.303633       175.848170   \n",
       "50%     44652.000000    794.941000       296.883367       192.431733   \n",
       "75%     61332.000000    977.213000       376.495012       217.031741   \n",
       "max    254616.000000   1985.370000       738.860154       460.198497   \n",
       "\n",
       "       AspectRation  Eccentricity     ConvexArea  EquivDiameter        Extent  \\\n",
       "count  13611.000000  13611.000000   13611.000000   13611.000000  13611.000000   \n",
       "mean       1.583242      0.750895   53768.200206     253.064220      0.749733   \n",
       "std        0.246678      0.092002   29774.915817      59.177120      0.049086   \n",
       "min        1.024868      0.218951   20684.000000     161.243764      0.555315   \n",
       "25%        1.432307      0.715928   36714.500000     215.068003      0.718634   \n",
       "50%        1.551124      0.764441   45178.000000     238.438026      0.759859   \n",
       "75%        1.707109      0.810466   62294.000000     279.446467      0.786851   \n",
       "max        2.430306      0.911423  263261.000000     569.374358      0.866195   \n",
       "\n",
       "           Solidity     roundness   Compactness  ShapeFactor1  ShapeFactor2  \\\n",
       "count  13611.000000  13611.000000  13611.000000  13611.000000  13611.000000   \n",
       "mean       0.987143      0.873282      0.799864      0.006564      0.001716   \n",
       "std        0.004660      0.059520      0.061713      0.001128      0.000596   \n",
       "min        0.919246      0.489618      0.640577      0.002778      0.000564   \n",
       "25%        0.985670      0.832096      0.762469      0.005900      0.001154   \n",
       "50%        0.988283      0.883157      0.801277      0.006645      0.001694   \n",
       "75%        0.990013      0.916869      0.834270      0.007271      0.002170   \n",
       "max        0.994677      0.990685      0.987303      0.010451      0.003665   \n",
       "\n",
       "       ShapeFactor3  ShapeFactor4  \n",
       "count  13611.000000  13611.000000  \n",
       "mean       0.643590      0.995063  \n",
       "std        0.098996      0.004366  \n",
       "min        0.410339      0.947687  \n",
       "25%        0.581359      0.993703  \n",
       "50%        0.642044      0.996386  \n",
       "75%        0.696006      0.997883  \n",
       "max        0.974767      0.999733  "
      ]
     },
     "execution_count": 41,
     "metadata": {},
     "output_type": "execute_result"
    }
   ],
   "source": [
    "raw_data = spark.read.csv(\"Data/data.csv\", header=True, inferSchema=True)\n",
    "raw_data.toPandas().describe()"
   ]
  },
  {
   "cell_type": "markdown",
   "metadata": {
    "colab_type": "text",
    "id": "iOGsFQmupGMj"
   },
   "source": [
    "Provide analysis and statistical information about the data set. How much data is there? What are the data types? What are the largest, smallest and average values of these data?"
   ]
  },
  {
   "cell_type": "code",
   "execution_count": 42,
   "metadata": {
    "colab": {},
    "colab_type": "code",
    "id": "gSVhVQfBpGMk"
   },
   "outputs": [
    {
     "name": "stdout",
     "output_type": "stream",
     "text": [
      "<class 'pandas.core.frame.DataFrame'>\n",
      "RangeIndex: 13611 entries, 0 to 13610\n",
      "Data columns (total 17 columns):\n",
      " #   Column           Non-Null Count  Dtype  \n",
      "---  ------           --------------  -----  \n",
      " 0   Area             13611 non-null  int32  \n",
      " 1   Perimeter        13611 non-null  float64\n",
      " 2   MajorAxisLength  13611 non-null  float64\n",
      " 3   MinorAxisLength  13611 non-null  float64\n",
      " 4   AspectRation     13611 non-null  float64\n",
      " 5   Eccentricity     13611 non-null  float64\n",
      " 6   ConvexArea       13611 non-null  int32  \n",
      " 7   EquivDiameter    13611 non-null  float64\n",
      " 8   Extent           13611 non-null  float64\n",
      " 9   Solidity         13611 non-null  float64\n",
      " 10  roundness        13611 non-null  float64\n",
      " 11  Compactness      13611 non-null  float64\n",
      " 12  ShapeFactor1     13611 non-null  float64\n",
      " 13  ShapeFactor2     13611 non-null  float64\n",
      " 14  ShapeFactor3     13611 non-null  float64\n",
      " 15  ShapeFactor4     13611 non-null  float64\n",
      " 16  Class            13611 non-null  object \n",
      "dtypes: float64(14), int32(2), object(1)\n",
      "memory usage: 1.7+ MB\n"
     ]
    }
   ],
   "source": [
    "raw_data.toPandas().info()"
   ]
  },
  {
   "cell_type": "markdown",
   "metadata": {
    "colab_type": "text",
    "id": "nqcRgLxhpGMq"
   },
   "source": [
    "## Data Preparation<a class=\"anchor\" id=\"data_preparation\"></a>"
   ]
  },
  {
   "cell_type": "code",
   "execution_count": 43,
   "metadata": {
    "colab": {},
    "colab_type": "code",
    "id": "Ap-mzlH1pGMs"
   },
   "outputs": [
    {
     "name": "stdout",
     "output_type": "stream",
     "text": [
      "+-----+---------+---------------+---------------+------------+------------+----------+-------------+-----------+-----------+-----------+-----------+------------+------------+------------+------------+-----+\n",
      "| Area|Perimeter|MajorAxisLength|MinorAxisLength|AspectRation|Eccentricity|ConvexArea|EquivDiameter|     Extent|   Solidity|  roundness|Compactness|ShapeFactor1|ShapeFactor2|ShapeFactor3|ShapeFactor4|Label|\n",
      "+-----+---------+---------------+---------------+------------+------------+----------+-------------+-----------+-----------+-----------+-----------+------------+------------+------------+------------+-----+\n",
      "|28395|  610.291|    208.1781167|     173.888747| 1.197191424| 0.549812187|     28715|  190.1410973|0.763922518|0.988855999|0.958027126|0.913357755| 0.007331506| 0.003147289| 0.834222388| 0.998723889|  2.0|\n",
      "|28734|  638.018|    200.5247957|    182.7344194| 1.097356461| 0.411785251|     29172|  191.2727505|0.783968133|0.984985603|0.887033637|0.953860842| 0.006978659| 0.003563624| 0.909850506| 0.998430331|  2.0|\n",
      "|29380|   624.11|    212.8261299|    175.9311426| 1.209712656| 0.562727317|     29690|  193.4109041|0.778113248|0.989558774|0.947849473|0.908774239| 0.007243912| 0.003047733| 0.825870617| 0.999066137|  2.0|\n",
      "|30008|  645.884|     210.557999|    182.5165157| 1.153638059| 0.498615976|     30724|  195.4670618|0.782681273|0.976695743|0.903936374|0.928328835| 0.007016729| 0.003214562| 0.861794425| 0.994198849|  2.0|\n",
      "|30140|  620.134|    201.8478822|    190.2792788|  1.06079802| 0.333679658|     30417|   195.896503|0.773098035| 0.99089325|0.984877069|0.970515523|  0.00669701| 0.003664972| 0.941900381| 0.999166059|  2.0|\n",
      "+-----+---------+---------------+---------------+------------+------------+----------+-------------+-----------+-----------+-----------+-----------+------------+------------+------------+------------+-----+\n",
      "only showing top 5 rows\n",
      "\n"
     ]
    }
   ],
   "source": [
    "from pyspark.ml.feature import StringIndexer\n",
    "\n",
    "stringIndexer = StringIndexer(inputCol=\"Class\", outputCol=\"Label\")\n",
    "model = stringIndexer.fit(raw_data)\n",
    "OD = model.transform(raw_data)\n",
    "class_view = OD.select('Class', 'Label').distinct()\n",
    "OD = OD.drop(\"Class\")\n",
    "OD.show(5)"
   ]
  },
  {
   "cell_type": "code",
   "execution_count": 44,
   "metadata": {},
   "outputs": [
    {
     "name": "stdout",
     "output_type": "stream",
     "text": [
      "+--------+-----+\n",
      "|   Class|Label|\n",
      "+--------+-----+\n",
      "|    SIRA|  1.0|\n",
      "|  BOMBAY|  6.0|\n",
      "|    CALI|  4.0|\n",
      "|   SEKER|  2.0|\n",
      "|BARBUNYA|  5.0|\n",
      "|DERMASON|  0.0|\n",
      "|   HOROZ|  3.0|\n",
      "+--------+-----+\n",
      "\n"
     ]
    }
   ],
   "source": [
    "# Encoded class transformations shown below.\n",
    "class_view.show()"
   ]
  },
  {
   "cell_type": "markdown",
   "metadata": {
    "colab_type": "text",
    "id": "npkR3Wq7pGMx"
   },
   "source": [
    "We have applied simple encoding for class column, no other column have non-numeric feature so we do not have to encode anything else. We will perform min max scaling later for creating ND dataset."
   ]
  },
  {
   "cell_type": "markdown",
   "metadata": {},
   "source": [
    "# Min - Max Scaling"
   ]
  },
  {
   "cell_type": "code",
   "execution_count": 45,
   "metadata": {
    "colab": {},
    "colab_type": "code",
    "id": "PXaCg0CJpGMy"
   },
   "outputs": [
    {
     "name": "stdout",
     "output_type": "stream",
     "text": [
      "+-----------+-----------+---------------+---------------+------------+------------+-----------+-------------+----------+----------+----------+-----------+------------+------------+------------+------------+-----+\n",
      "|       Area|  Perimeter|MajorAxisLength|MinorAxisLength|AspectRation|Eccentricity| ConvexArea|EquivDiameter|    Extent|  Solidity| roundness|Compactness|ShapeFactor1|ShapeFactor2|ShapeFactor3|ShapeFactor4|Label|\n",
      "+-----------+-----------+---------------+---------------+------------+------------+-----------+-------------+----------+----------+----------+-----------+------------+------------+------------+------------+-----+\n",
      "|0.034052674| 0.05857388|     0.04426214|     0.15214169|  0.12261211|  0.47779703|0.033107013|  0.070804134| 0.6710237|0.92282385|0.93482256| 0.78673315|   0.5934316|   0.8330487|  0.75099635|  0.98061985|  2.0|\n",
      "| 0.03550018| 0.07755673|    0.030478805|     0.17833667|  0.05157739|    0.278472| 0.03499095|  0.073576905|  0.735504|0.87151366|0.79313797|  0.9035489|  0.54744697|  0.96731555|  0.88498694|   0.9749794|  2.0|\n",
      "|0.038258553| 0.06803484|    0.052633032|      0.1581899|  0.13152124|   0.4964478|0.037126355|    0.0788158| 0.7166707| 0.9321406| 0.9145106| 0.77351373|  0.58201593|   0.8009422|   0.7361995|  0.98719585|  2.0|\n",
      "| 0.04094007| 0.08294207|    0.048548218|     0.17769137| 0.091622956|  0.40386447| 0.04138892|   0.08385379|0.73136455|0.76161426|0.82687145| 0.82991153|   0.5524084|   0.8547441|   0.7998458|   0.8936753|  2.0|\n",
      "|0.041503698|0.065312736|     0.03286163|      0.2006795|  0.02556527|  0.16567954|0.040123343|  0.084906004| 0.7005384|0.94983184| 0.9884081| 0.95158297|  0.51074123|         1.0|  0.94176984|   0.9891158|  2.0|\n",
      "+-----------+-----------+---------------+---------------+------------+------------+-----------+-------------+----------+----------+----------+-----------+------------+------------+------------+------------+-----+\n",
      "only showing top 5 rows\n",
      "\n"
     ]
    }
   ],
   "source": [
    "from pyspark.sql.functions import col, udf\n",
    "from pyspark.sql.types import FloatType\n",
    "\n",
    "ND = OD.select(\"*\")\n",
    "\n",
    "for column in OD.columns:\n",
    "    if column == \"Label\":\n",
    "        continue\n",
    "\n",
    "    column_max = OD.agg({column: \"max\"}).collect()[0][0]\n",
    "    column_min = OD.agg({column: \"min\"}).collect()[0][0]\n",
    "\n",
    "    scaler = udf(lambda x: (x-column_min)/(column_max-column_min), FloatType())\n",
    "    ND = ND.withColumn(column, scaler(col(column)))\n",
    "ND.show(5)"
   ]
  },
  {
   "cell_type": "markdown",
   "metadata": {
    "colab_type": "text",
    "id": "L5yg37-IpGM1"
   },
   "source": [
    "## Modeling for Clustering <a class=\"anchor\" id=\"clusteringmodel\"></a>"
   ]
  },
  {
   "cell_type": "markdown",
   "metadata": {},
   "source": [
    "### Modeling for Clustering (OD)"
   ]
  },
  {
   "cell_type": "code",
   "execution_count": 46,
   "metadata": {
    "colab": {},
    "colab_type": "code",
    "id": "85XeuwetpGM2"
   },
   "outputs": [
    {
     "name": "stdout",
     "output_type": "stream",
     "text": [
      "Class size = 7\n",
      "+-----+---------+---------------+---------------+------------+------------+----------+-------------+-----------+-----------+-----------+-----------+------------+------------+------------+------------+-----+----------+\n",
      "| Area|Perimeter|MajorAxisLength|MinorAxisLength|AspectRation|Eccentricity|ConvexArea|EquivDiameter|     Extent|   Solidity|  roundness|Compactness|ShapeFactor1|ShapeFactor2|ShapeFactor3|ShapeFactor4|Label|prediction|\n",
      "+-----+---------+---------------+---------------+------------+------------+----------+-------------+-----------+-----------+-----------+-----------+------------+------------+------------+------------+-----+----------+\n",
      "|28395|  610.291|    208.1781167|     173.888747| 1.197191424| 0.549812187|     28715|  190.1410973|0.763922518|0.988855999|0.958027126|0.913357755| 0.007331506| 0.003147289| 0.834222388| 0.998723889|  2.0|         0|\n",
      "|28734|  638.018|    200.5247957|    182.7344194| 1.097356461| 0.411785251|     29172|  191.2727505|0.783968133|0.984985603|0.887033637|0.953860842| 0.006978659| 0.003563624| 0.909850506| 0.998430331|  2.0|         0|\n",
      "|29380|   624.11|    212.8261299|    175.9311426| 1.209712656| 0.562727317|     29690|  193.4109041|0.778113248|0.989558774|0.947849473|0.908774239| 0.007243912| 0.003047733| 0.825870617| 0.999066137|  2.0|         0|\n",
      "|30008|  645.884|     210.557999|    182.5165157| 1.153638059| 0.498615976|     30724|  195.4670618|0.782681273|0.976695743|0.903936374|0.928328835| 0.007016729| 0.003214562| 0.861794425| 0.994198849|  2.0|         0|\n",
      "|30140|  620.134|    201.8478822|    190.2792788|  1.06079802| 0.333679658|     30417|   195.896503|0.773098035| 0.99089325|0.984877069|0.970515523|  0.00669701| 0.003664972| 0.941900381| 0.999166059|  2.0|         0|\n",
      "+-----+---------+---------------+---------------+------------+------------+----------+-------------+-----------+-----------+-----------+-----------+------------+------------+------------+------------+-----+----------+\n",
      "only showing top 5 rows\n",
      "\n"
     ]
    }
   ],
   "source": [
    "from pyspark.ml.clustering import KMeans   # https://spark.apache.org/docs/latest/api/python/reference/api/pyspark.ml.clustering.KMeans.html\n",
    "from pyspark.ml.feature import VectorAssembler\n",
    "\n",
    "CLASS_SIZE = raw_data.select(\"Class\").distinct().count()\n",
    "print(f\"Class size = {CLASS_SIZE}\")\n",
    "\n",
    "featuresCol = OD.columns[:-1]   # All columns except label\n",
    "predictionCol = OD.columns[-1]  # Label\n",
    "\n",
    "vecAssembler = VectorAssembler(inputCols=featuresCol, outputCol=\"features\")\n",
    "temp_df = vecAssembler.transform(OD)\n",
    "\n",
    "kMeans = KMeans(k=CLASS_SIZE)\n",
    "model = kMeans.fit(temp_df.select(\"features\"))\n",
    "\n",
    "COD = model.transform(temp_df)\n",
    "COD = COD.drop(\"features\")\n",
    "COD.show(5)"
   ]
  },
  {
   "cell_type": "markdown",
   "metadata": {},
   "source": [
    "### Modeling for Clustering (ND)"
   ]
  },
  {
   "cell_type": "code",
   "execution_count": 47,
   "metadata": {},
   "outputs": [
    {
     "name": "stdout",
     "output_type": "stream",
     "text": [
      "Class size = 7\n",
      "+-----------+-----------+---------------+---------------+------------+------------+-----------+-------------+----------+----------+----------+-----------+------------+------------+------------+------------+-----+----------+\n",
      "|       Area|  Perimeter|MajorAxisLength|MinorAxisLength|AspectRation|Eccentricity| ConvexArea|EquivDiameter|    Extent|  Solidity| roundness|Compactness|ShapeFactor1|ShapeFactor2|ShapeFactor3|ShapeFactor4|Label|prediction|\n",
      "+-----------+-----------+---------------+---------------+------------+------------+-----------+-------------+----------+----------+----------+-----------+------------+------------+------------+------------+-----+----------+\n",
      "|0.034052674| 0.05857388|     0.04426214|     0.15214169|  0.12261211|  0.47779703|0.033107013|  0.070804134| 0.6710237|0.92282385|0.93482256| 0.78673315|   0.5934316|   0.8330487|  0.75099635|  0.98061985|  2.0|         3|\n",
      "| 0.03550018| 0.07755673|    0.030478805|     0.17833667|  0.05157739|    0.278472| 0.03499095|  0.073576905|  0.735504|0.87151366|0.79313797|  0.9035489|  0.54744697|  0.96731555|  0.88498694|   0.9749794|  2.0|         3|\n",
      "|0.038258553| 0.06803484|    0.052633032|      0.1581899|  0.13152124|   0.4964478|0.037126355|    0.0788158| 0.7166707| 0.9321406| 0.9145106| 0.77351373|  0.58201593|   0.8009422|   0.7361995|  0.98719585|  2.0|         3|\n",
      "| 0.04094007| 0.08294207|    0.048548218|     0.17769137| 0.091622956|  0.40386447| 0.04138892|   0.08385379|0.73136455|0.76161426|0.82687145| 0.82991153|   0.5524084|   0.8547441|   0.7998458|   0.8936753|  2.0|         3|\n",
      "|0.041503698|0.065312736|     0.03286163|      0.2006795|  0.02556527|  0.16567954|0.040123343|  0.084906004| 0.7005384|0.94983184| 0.9884081| 0.95158297|  0.51074123|         1.0|  0.94176984|   0.9891158|  2.0|         3|\n",
      "+-----------+-----------+---------------+---------------+------------+------------+-----------+-------------+----------+----------+----------+-----------+------------+------------+------------+------------+-----+----------+\n",
      "only showing top 5 rows\n",
      "\n"
     ]
    }
   ],
   "source": [
    "from pyspark.ml.clustering import KMeans\n",
    "from pyspark.ml.feature import VectorAssembler\n",
    "\n",
    "CLASS_SIZE = raw_data.select(\"Class\").distinct().count()\n",
    "print(f\"Class size = {CLASS_SIZE}\")\n",
    "\n",
    "featuresCol = ND.columns[:-1]   # All columns except label\n",
    "predictionCol = ND.columns[-1]  # Label\n",
    "\n",
    "vecAssembler = VectorAssembler(inputCols=featuresCol, outputCol=\"features\")\n",
    "temp_df = vecAssembler.transform(ND)\n",
    "\n",
    "kMeans = KMeans(k=CLASS_SIZE)\n",
    "model = kMeans.fit(temp_df.select(\"features\"))\n",
    "\n",
    "CND = model.transform(temp_df)\n",
    "CND = CND.drop(\"features\")\n",
    "CND.show(5)"
   ]
  },
  {
   "cell_type": "markdown",
   "metadata": {
    "colab_type": "text",
    "id": "vXXqce-LpGM4"
   },
   "source": [
    "We used K-Means to cluster our dataset. We have chosen our K value as original dataset's unique class count. It is 7 in this case."
   ]
  },
  {
   "cell_type": "markdown",
   "metadata": {
    "colab_type": "text",
    "id": "KdjxO3EF9QWy"
   },
   "source": [
    "## Clustering results<a class=\"anchor\" id=\"clustering\"></a>"
   ]
  },
  {
   "cell_type": "markdown",
   "metadata": {
    "colab_type": "text",
    "id": "9yoeXEZG9X3Q"
   },
   "source": [
    "### Clustering Results (OD)"
   ]
  },
  {
   "cell_type": "code",
   "execution_count": 48,
   "metadata": {
    "colab": {},
    "colab_type": "code",
    "id": "AhZqLaTy9lC0"
   },
   "outputs": [
    {
     "name": "stdout",
     "output_type": "stream",
     "text": [
      "Best correlated column is Perimeter\n"
     ]
    },
    {
     "data": {
      "text/plain": [
       "<AxesSubplot:xlabel='Label', ylabel='Perimeter'>"
      ]
     },
     "execution_count": 48,
     "metadata": {},
     "output_type": "execute_result"
    },
    {
     "data": {
      "image/png": "[encoded data removed]",
      "text/plain": [
       "<Figure size 432x288 with 1 Axes>"
      ]
     },
     "metadata": {
      "needs_background": "light"
     },
     "output_type": "display_data"
    }
   ],
   "source": [
    "import seaborn as sns\n",
    "\n",
    "cod_df = COD.toPandas()\n",
    "best_correlated_column = cod_df.corr().loc[\"Label\"].drop(\"Label\").idxmax()\n",
    "print(f\"Best correlated column is {best_correlated_column}\")\n",
    "sns.scatterplot(data=cod_df, x=\"Label\", y=best_correlated_column, hue=\"prediction\", palette=\"bright\")"
   ]
  },
  {
   "cell_type": "markdown",
   "metadata": {},
   "source": [
    "### Clustering Results (ND)"
   ]
  },
  {
   "cell_type": "code",
   "execution_count": 49,
   "metadata": {},
   "outputs": [
    {
     "name": "stdout",
     "output_type": "stream",
     "text": [
      "Best correlated column is Perimeter\n"
     ]
    },
    {
     "data": {
      "text/plain": [
       "<AxesSubplot:xlabel='Label', ylabel='Perimeter'>"
      ]
     },
     "execution_count": 49,
     "metadata": {},
     "output_type": "execute_result"
    },
    {
     "data": {
      "image/png": "[encoded data removed]",
      "text/plain": [
       "<Figure size 432x288 with 1 Axes>"
      ]
     },
     "metadata": {
      "needs_background": "light"
     },
     "output_type": "display_data"
    }
   ],
   "source": [
    "cnd_df = CND.toPandas()\n",
    "best_correlated_column = cnd_df.corr().loc[\"Label\"].drop(\"Label\").idxmax()\n",
    "print(f\"Best correlated column is {best_correlated_column}\")\n",
    "sns.scatterplot(data=cnd_df, x=\"Label\", y=best_correlated_column, hue=\"prediction\", palette=\"bright\")"
   ]
  },
  {
   "cell_type": "code",
   "execution_count": 50,
   "metadata": {},
   "outputs": [
    {
     "name": "stdout",
     "output_type": "stream",
     "text": [
      "Accuracy for COD dataset = 0.26661693693031313\n",
      "Accuracy for CND dataset = 0.004894215512650785\n"
     ]
    }
   ],
   "source": [
    "# COD Accuracy\n",
    "\n",
    "from pyspark.ml.evaluation import MulticlassClassificationEvaluator\n",
    "\n",
    "predictionAndLabels = COD.rdd.map(lambda lp: (float(lp.prediction), float(lp.Label)))\n",
    "dataset = spark.createDataFrame(predictionAndLabels.collect(), [\"prediction\", \"label\"])\n",
    "evaluator = MulticlassClassificationEvaluator()\n",
    "print(f\"Accuracy for COD dataset = {evaluator.evaluate(dataset)}\")\n",
    "\n",
    "# CND Accuracy\n",
    "\n",
    "predictionAndLabels = CND.rdd.map(lambda lp: (float(lp.prediction), float(lp.Label)))\n",
    "dataset = spark.createDataFrame(predictionAndLabels.collect(), [\"prediction\", \"label\"])\n",
    "evaluator = MulticlassClassificationEvaluator()\n",
    "print(f\"Accuracy for CND dataset = {evaluator.evaluate(dataset)}\")"
   ]
  },
  {
   "cell_type": "markdown",
   "metadata": {
    "colab_type": "text",
    "id": "2ebDW7Pl9xkV"
   },
   "source": [
    "\n",
    "## Modeling for Classification <a class=\"anchor\" id=\"classificationmodel\"></a>"
   ]
  },
  {
   "cell_type": "code",
   "execution_count": 51,
   "metadata": {},
   "outputs": [],
   "source": [
    "from pyspark.ml.classification import RandomForestClassifier    # https://spark.apache.org/docs/latest/api/python/reference/api/pyspark.mllib.tree.RandomForest.html"
   ]
  },
  {
   "cell_type": "markdown",
   "metadata": {},
   "source": [
    "### Classification for OD"
   ]
  },
  {
   "cell_type": "code",
   "execution_count": 52,
   "metadata": {
    "colab": {},
    "colab_type": "code",
    "id": "f0t3y0Gh-iY8"
   },
   "outputs": [
    {
     "name": "stdout",
     "output_type": "stream",
     "text": [
      "Score = 0.7212753596462779 with number of 5 with 2 depth.\n",
      "Score = 0.7304095077849502 with number of 10 with 2 depth.\n",
      "Score = 0.734139131994994 with number of 20 with 2 depth.\n",
      "Score = 0.8830706647984797 with number of 5 with 5 depth.\n",
      "Score = 0.8975192800071801 with number of 10 with 5 depth.\n",
      "Score = 0.8983821246469997 with number of 20 with 5 depth.\n",
      "Score = 0.9114101188693107 with number of 5 with 10 depth.\n",
      "Score = 0.9187533670011224 with number of 10 with 10 depth.\n",
      "Score = 0.9200375890456035 with number of 20 with 10 depth.\n",
      "Test Accuracy: 0.9196141254693743\n",
      "Test Precision: 0.9145860709592641\n",
      "Test Recall: 0.9405405405405406\n",
      "Test F1-Score: 0.9196141254693743\n",
      "Best Parameters: Depth = 10, Number of Trees = 20\n"
     ]
    }
   ],
   "source": [
    "featuresCol = OD.columns[:-1]\n",
    "vecAssembler = VectorAssembler(inputCols=featuresCol, outputCol=\"features\")\n",
    "temp_df = vecAssembler.transform(OD)\n",
    "\n",
    "train_set, test_set = temp_df.randomSplit([0.8, 0.2], seed=0)\n",
    "train_set, val_set = train_set.randomSplit([0.8, 0.2], seed=0)\n",
    "\n",
    "depths = [2, 5, 10]\n",
    "num_trees = [5, 10, 20]\n",
    "best_score = 0\n",
    "best_model = None\n",
    "best_params = []\n",
    "\n",
    "for depth in depths:\n",
    "    for num_tree in num_trees:\n",
    "        rf = RandomForestClassifier(numTrees=num_tree, maxDepth=depth, featuresCol='features', labelCol=\"Label\", predictionCol='prediction', leafCol=\"leafId\")\n",
    "        model = rf.fit(train_set)\n",
    "        preds = model.transform(val_set)\n",
    "\n",
    "        predictionAndLabels = preds.rdd.map(lambda lp: (float(lp.prediction), float(lp.Label)))\n",
    "        dataset = spark.createDataFrame(predictionAndLabels.collect(), [\"prediction\", \"label\"])\n",
    "        evaluator = MulticlassClassificationEvaluator()\n",
    "        score = evaluator.evaluate(dataset)\n",
    "        if score > best_score:\n",
    "            best_score = score\n",
    "            best_model = model\n",
    "            best_params = [depth, num_tree]\n",
    "        print(f\"Score = {score} with number of {num_tree} with {depth} depth.\")\n",
    "\n",
    "# Test Eval\n",
    "truths = best_model.transform(test_set)\n",
    "truthsAndLabels = truths.rdd.map(lambda lp: (float(lp.prediction), float(lp.Label)))\n",
    "test_dataset = spark.createDataFrame(truthsAndLabels.collect(), [\"prediction\", \"label\"])\n",
    "test_score = evaluator.evaluate(test_dataset)\n",
    "precision = evaluator.evaluate(test_dataset, {evaluator.metricName: \"precisionByLabel\"})\n",
    "recall = evaluator.evaluate(test_dataset, {evaluator.metricName: \"recallByLabel\"})\n",
    "f1_score = evaluator.evaluate(test_dataset, {evaluator.metricName: \"f1\"})\n",
    "print(f\"Test Accuracy: {test_score}\")\n",
    "print(f\"Test Precision: {precision}\")\n",
    "print(f\"Test Recall: {recall}\")\n",
    "print(f\"Test F1-Score: {f1_score}\")\n",
    "print(f\"Best Parameters: Depth = {best_params[0]}, Number of Trees = {best_params[1]}\")"
   ]
  },
  {
   "cell_type": "markdown",
   "metadata": {},
   "source": [
    "### Classification for ND"
   ]
  },
  {
   "cell_type": "code",
   "execution_count": 53,
   "metadata": {},
   "outputs": [
    {
     "name": "stdout",
     "output_type": "stream",
     "text": [
      "Score = 0.7212753596462779 with number of 5 with 2 depth.\n",
      "Score = 0.7304095077849502 with number of 10 with 2 depth.\n",
      "Score = 0.734139131994994 with number of 20 with 2 depth.\n",
      "Score = 0.8830706647984797 with number of 5 with 5 depth.\n",
      "Score = 0.8975192800071801 with number of 10 with 5 depth.\n",
      "Score = 0.8983821246469997 with number of 20 with 5 depth.\n",
      "Score = 0.9114101188693107 with number of 5 with 10 depth.\n",
      "Score = 0.9187533670011224 with number of 10 with 10 depth.\n",
      "Score = 0.9200375890456035 with number of 20 with 10 depth.\n",
      "Test Accuracy: 0.9196141254693743\n",
      "Test Precision: 0.9145860709592641\n",
      "Test Recall: 0.9405405405405406\n",
      "Test F1-Score: 0.9196141254693743\n",
      "Best Parameters: Depth = 10, Number of Trees = 20\n"
     ]
    }
   ],
   "source": [
    "featuresCol = ND.columns[:-1]\n",
    "vecAssembler = VectorAssembler(inputCols=featuresCol, outputCol=\"features\")\n",
    "temp_df = vecAssembler.transform(ND)\n",
    "\n",
    "train_set, test_set = temp_df.randomSplit([0.8, 0.2], seed=0)\n",
    "train_set, val_set = train_set.randomSplit([0.8, 0.2], seed=0)\n",
    "\n",
    "depths = [2, 5, 10]\n",
    "num_trees = [5, 10, 20]\n",
    "best_score = 0\n",
    "best_model = None\n",
    "best_params = []\n",
    "\n",
    "for depth in depths:\n",
    "    for num_tree in num_trees:\n",
    "        rf = RandomForestClassifier(numTrees=num_tree, maxDepth=depth, featuresCol='features', labelCol=\"Label\", predictionCol='prediction', leafCol=\"leafId\")\n",
    "        model = rf.fit(train_set)\n",
    "        preds = model.transform(val_set)\n",
    "\n",
    "        predictionAndLabels = preds.rdd.map(lambda lp: (float(lp.prediction), float(lp.Label)))\n",
    "        dataset = spark.createDataFrame(predictionAndLabels.collect(), [\"prediction\", \"label\"])\n",
    "        evaluator = MulticlassClassificationEvaluator()\n",
    "        score = evaluator.evaluate(dataset)\n",
    "        if score > best_score:\n",
    "            best_score = score\n",
    "            best_model = model\n",
    "            best_params = [depth, num_tree]\n",
    "        print(f\"Score = {score} with number of {num_tree} with {depth} depth.\")\n",
    "\n",
    "# Test Eval\n",
    "truths = best_model.transform(test_set)\n",
    "truthsAndLabels = truths.rdd.map(lambda lp: (float(lp.prediction), float(lp.Label)))\n",
    "test_dataset = spark.createDataFrame(truthsAndLabels.collect(), [\"prediction\", \"label\"])\n",
    "test_score = evaluator.evaluate(test_dataset)\n",
    "precision = evaluator.evaluate(test_dataset, {evaluator.metricName: \"precisionByLabel\"})\n",
    "recall = evaluator.evaluate(test_dataset, {evaluator.metricName: \"recallByLabel\"})\n",
    "f1_score = evaluator.evaluate(test_dataset, {evaluator.metricName: \"f1\"})\n",
    "print(f\"Test Accuracy: {test_score}\")\n",
    "print(f\"Test Precision: {precision}\")\n",
    "print(f\"Test Recall: {recall}\")\n",
    "print(f\"Test F1-Score: {f1_score}\")\n",
    "print(f\"Best Parameters: Depth = {best_params[0]}, Number of Trees = {best_params[1]}\")"
   ]
  },
  {
   "cell_type": "markdown",
   "metadata": {},
   "source": [
    "### Classification for COD"
   ]
  },
  {
   "cell_type": "code",
   "execution_count": 56,
   "metadata": {},
   "outputs": [
    {
     "name": "stdout",
     "output_type": "stream",
     "text": [
      "Score = 0.7212753596462779 with number of 5 with 2 depth.\n",
      "Score = 0.7304095077849502 with number of 10 with 2 depth.\n",
      "Score = 0.734139131994994 with number of 20 with 2 depth.\n",
      "Score = 0.8830706647984797 with number of 5 with 5 depth.\n",
      "Score = 0.8975192800071801 with number of 10 with 5 depth.\n",
      "Score = 0.8983821246469997 with number of 20 with 5 depth.\n",
      "Score = 0.9114101188693107 with number of 5 with 10 depth.\n",
      "Score = 0.9187533670011224 with number of 10 with 10 depth.\n",
      "Score = 0.9200375890456035 with number of 20 with 10 depth.\n",
      "Test Accuracy: 0.9196141254693743\n",
      "Test Precision: 0.9145860709592641\n",
      "Test Recall: 0.9405405405405406\n",
      "Test F1-Score: 0.9196141254693743\n",
      "Best Parameters: Depth = 10, Number of Trees = 20\n"
     ]
    }
   ],
   "source": [
    "COD = COD.drop(\"prediction\")\n",
    "featuresCol = COD.columns[:-1]\n",
    "vecAssembler = VectorAssembler(inputCols=featuresCol, outputCol=\"features\")\n",
    "temp_df = vecAssembler.transform(COD)\n",
    "\n",
    "train_set, test_set = temp_df.randomSplit([0.8, 0.2], seed=0)\n",
    "train_set, val_set = train_set.randomSplit([0.8, 0.2], seed=0)\n",
    "\n",
    "depths = [2, 5, 10]\n",
    "num_trees = [5, 10, 20]\n",
    "best_score = 0\n",
    "best_model = None\n",
    "best_params = []\n",
    "\n",
    "for depth in depths:\n",
    "    for num_tree in num_trees:\n",
    "        rf = RandomForestClassifier(numTrees=num_tree, maxDepth=depth, featuresCol='features', labelCol=\"Label\", predictionCol='prediction', leafCol=\"leafId\")\n",
    "        model = rf.fit(train_set)\n",
    "        preds = model.transform(val_set)\n",
    "\n",
    "        predictionAndLabels = preds.rdd.map(lambda lp: (float(lp.prediction), float(lp.Label)))\n",
    "        dataset = spark.createDataFrame(predictionAndLabels.collect(), [\"prediction\", \"label\"])\n",
    "        evaluator = MulticlassClassificationEvaluator()\n",
    "        score = evaluator.evaluate(dataset)\n",
    "        if score > best_score:\n",
    "            best_score = score\n",
    "            best_model = model\n",
    "            best_params = [depth, num_tree]\n",
    "        print(f\"Score = {score} with number of {num_tree} with {depth} depth.\")\n",
    "\n",
    "# Test Eval\n",
    "truths = best_model.transform(test_set)\n",
    "truthsAndLabels = truths.rdd.map(lambda lp: (float(lp.prediction), float(lp.Label)))\n",
    "test_dataset = spark.createDataFrame(truthsAndLabels.collect(), [\"prediction\", \"label\"])\n",
    "test_score = evaluator.evaluate(test_dataset)\n",
    "precision = evaluator.evaluate(test_dataset, {evaluator.metricName: \"precisionByLabel\"})\n",
    "recall = evaluator.evaluate(test_dataset, {evaluator.metricName: \"recallByLabel\"})\n",
    "f1_score = evaluator.evaluate(test_dataset, {evaluator.metricName: \"f1\"})\n",
    "print(f\"Test Accuracy: {test_score}\")\n",
    "print(f\"Test Precision: {precision}\")\n",
    "print(f\"Test Recall: {recall}\")\n",
    "print(f\"Test F1-Score: {f1_score}\")\n",
    "print(f\"Best Parameters: Depth = {best_params[0]}, Number of Trees = {best_params[1]}\")"
   ]
  },
  {
   "cell_type": "markdown",
   "metadata": {},
   "source": [
    "### Classification for CND"
   ]
  },
  {
   "cell_type": "code",
   "execution_count": 55,
   "metadata": {},
   "outputs": [
    {
     "name": "stdout",
     "output_type": "stream",
     "text": [
      "Score = 0.7138998051316918 with number of 5 with 2 depth.\n",
      "Score = 0.6260565862100254 with number of 10 with 2 depth.\n",
      "Score = 0.6204696693029748 with number of 20 with 2 depth.\n",
      "Score = 0.8830975305197772 with number of 5 with 5 depth.\n",
      "Score = 0.8823888058842924 with number of 10 with 5 depth.\n",
      "Score = 0.889289868089386 with number of 20 with 5 depth.\n",
      "Score = 0.9050808796467291 with number of 5 with 10 depth.\n",
      "Score = 0.908160660372501 with number of 10 with 10 depth.\n",
      "Score = 0.915419394736443 with number of 20 with 10 depth.\n",
      "Test Accuracy: 0.915419394736443\n",
      "Test Precision: 0.916\n",
      "Test Recall: 0.9283783783783783\n",
      "Test F1-Score: 0.915419394736443\n",
      "Best Parameters: Depth = 10, Number of Trees = 20\n"
     ]
    }
   ],
   "source": [
    "CND = CND.drop(\"prediction\")\n",
    "featuresCol = CND.columns[:-1]\n",
    "vecAssembler = VectorAssembler(inputCols=featuresCol, outputCol=\"features\")\n",
    "temp_df = vecAssembler.transform(CND)\n",
    "\n",
    "train_set, test_set = temp_df.randomSplit([0.8, 0.2], seed=0)\n",
    "train_set, val_set = train_set.randomSplit([0.8, 0.2], seed=0)\n",
    "\n",
    "depths = [2, 5, 10]\n",
    "num_trees = [5, 10, 20]\n",
    "best_score = 0\n",
    "best_model = None\n",
    "best_params = []\n",
    "\n",
    "for depth in depths:\n",
    "    for num_tree in num_trees:\n",
    "        rf = RandomForestClassifier(numTrees=num_tree, maxDepth=depth, featuresCol='features', labelCol=\"Label\", predictionCol='prediction', leafCol=\"leafId\")\n",
    "        model = rf.fit(val_set)\n",
    "        preds = model.transform(test_set)\n",
    "\n",
    "        predictionAndLabels = preds.rdd.map(lambda lp: (float(lp.prediction), float(lp.Label)))\n",
    "        dataset = spark.createDataFrame(predictionAndLabels.collect(), [\"prediction\", \"label\"])\n",
    "        evaluator = MulticlassClassificationEvaluator()\n",
    "        score = evaluator.evaluate(dataset)\n",
    "        if score > best_score:\n",
    "            best_score = score\n",
    "            best_model = model\n",
    "            best_params = [depth, num_tree]\n",
    "        print(f\"Score = {score} with number of {num_tree} with {depth} depth.\")\n",
    "\n",
    "# Test Eval\n",
    "truths = best_model.transform(test_set)\n",
    "truthsAndLabels = truths.rdd.map(lambda lp: (float(lp.prediction), float(lp.Label)))\n",
    "test_dataset = spark.createDataFrame(truthsAndLabels.collect(), [\"prediction\", \"label\"])\n",
    "test_score = evaluator.evaluate(test_dataset)\n",
    "precision = evaluator.evaluate(test_dataset, {evaluator.metricName: \"precisionByLabel\"})\n",
    "recall = evaluator.evaluate(test_dataset, {evaluator.metricName: \"recallByLabel\"})\n",
    "f1_score = evaluator.evaluate(test_dataset, {evaluator.metricName: \"f1\"})\n",
    "print(f\"Test Accuracy: {test_score}\")\n",
    "print(f\"Test Precision: {precision}\")\n",
    "print(f\"Test Recall: {recall}\")\n",
    "print(f\"Test F1-Score: {f1_score}\")\n",
    "print(f\"Best Parameters: Depth = {best_params[0]}, Number of Trees = {best_params[1]}\")"
   ]
  },
  {
   "cell_type": "markdown",
   "metadata": {
    "colab_type": "text",
    "id": "osXXZDxS-hVD"
   },
   "source": [
    "For each dataset Depth should be 10 and number of trees should be 20. Because this parameters has best validation scores."
   ]
  },
  {
   "cell_type": "markdown",
   "metadata": {
    "colab_type": "text",
    "id": "qe-ObfH2pGOH"
   },
   "source": [
    "\n",
    "**Disclaimer!** <font color='grey'>This notebook was prepared by Burak Özüesen, Berkay Emre Turhan as an assigment for the *BBM469 - Data Intensive Applications Laboratory* class. The notebook is available for educational purposes only. There is no guarantee on the correctness of the content provided as it is a student work.\n",
    "\n",
    "If you think there is any copyright violation, please let us [know](https://forms.gle/BNNRB2kR8ZHVEREq8). \n",
    "</font>"
   ]
  }
 ],
 "metadata": {
  "colab": {
   "name": "bbm469_hw3_template.ipynb",
   "provenance": []
  },
  "kernelspec": {
   "display_name": "Python 3",
   "language": "python",
   "name": "python3"
  },
  "language_info": {
   "codemirror_mode": {
    "name": "ipython",
    "version": 3
   },
   "file_extension": ".py",
   "mimetype": "text/x-python",
   "name": "python",
   "nbconvert_exporter": "python",
   "pygments_lexer": "ipython3",
   "version": "3.8.5"
  }
 },
 "nbformat": 4,
 "nbformat_minor": 1
}
